{
 "cells": [
  {
   "cell_type": "markdown",
   "metadata": {},
   "source": [
    "# 环境"
   ]
  },
  {
   "cell_type": "code",
   "execution_count": 48,
   "metadata": {},
   "outputs": [
    {
     "name": "stdout",
     "output_type": "stream",
     "text": [
      "http://localhost:8088/admin\n",
      "http://localhost:8088\n",
      "http://localhost:8088/mutate\n",
      "http://localhost:8088/alter\n",
      "http://localhost:8088/query\n"
     ]
    }
   ],
   "source": [
    "import requests\n",
    "import json\n",
    "import time\n",
    "import pprint\n",
    "import pydgraph\n",
    "\n",
    "headers = {}\n",
    "\n",
    "URL_PREFIX = 'http://localhost'\n",
    "PORT_RATEL_HTTP = 8008\n",
    "PORT_ALPHA_HTTP = 8088\n",
    "\n",
    "URL_PREFIX_GRAPHQL_ADMIN = URL_PREFIX + ':{port}/admin'.format(\n",
    "    port=PORT_ALPHA_HTTP)\n",
    "print(URL_PREFIX_GRAPHQL_ADMIN)\n",
    "\n",
    "URL_PREFIX_DQL = URL_PREFIX + ':{port}'.format(port=PORT_ALPHA_HTTP)\n",
    "print(URL_PREFIX_DQL)\n",
    "\n",
    "URL_PRFIX_MUTATE = URL_PREFIX_DQL + '/mutate'\n",
    "print(URL_PRFIX_MUTATE)\n",
    "URL_PRFIX_ALTER = URL_PREFIX_DQL + '/alter'\n",
    "print(URL_PRFIX_ALTER)\n",
    "URL_PRFIX_QUERY = URL_PREFIX_DQL + '/query'\n",
    "print(URL_PRFIX_QUERY)"
   ]
  },
  {
   "cell_type": "markdown",
   "metadata": {},
   "source": [
    "# DQL"
   ]
  },
  {
   "cell_type": "markdown",
   "metadata": {},
   "source": [
    "## Create Schema"
   ]
  },
  {
   "cell_type": "code",
   "execution_count": 66,
   "metadata": {},
   "outputs": [
    {
     "name": "stdout",
     "output_type": "stream",
     "text": [
      "http://localhost:8088/alter\n",
      "{}\n",
      "\n",
      "name: string @index(term) .\n",
      "  release_date: datetime @index(year) .\n",
      "  revenue: float .\n",
      "  running_time: int .\n",
      "  starring: [uid] .\n",
      "  director: [uid] .\n",
      "\n",
      "  type Person {\n",
      "    name\n",
      "  }\n",
      "\n",
      "  type Film {\n",
      "    name\n",
      "    release_date\n",
      "    revenue\n",
      "    running_time\n",
      "    starring\n",
      "    director\n",
      "  }\n",
      "\n",
      "<Response [200]>\n",
      "{'data': {'code': 'Success', 'message': 'Done'}}\n"
     ]
    }
   ],
   "source": [
    "url = URL_PRFIX_ALTER\n",
    "print(url)\n",
    "print(headers)\n",
    "\n",
    "params = {}\n",
    "\n",
    "data = \"\"\"\n",
    "name: string @index(term) .\n",
    "  release_date: datetime @index(year) .\n",
    "  revenue: float .\n",
    "  running_time: int .\n",
    "  starring: [uid] .\n",
    "  director: [uid] .\n",
    "\n",
    "  type Person {\n",
    "    name\n",
    "  }\n",
    "\n",
    "  type Film {\n",
    "    name\n",
    "    release_date\n",
    "    revenue\n",
    "    running_time\n",
    "    starring\n",
    "    director\n",
    "  }\n",
    "\"\"\"\n",
    "print(data)\n",
    "\n",
    "r = requests.post(url, headers=headers, params=params, data=data)\n",
    "\n",
    "print(r)\n",
    "pprint.pprint(r.json())"
   ]
  },
  {
   "cell_type": "markdown",
   "metadata": {},
   "source": [
    "## Mutation"
   ]
  },
  {
   "cell_type": "code",
   "execution_count": 67,
   "metadata": {},
   "outputs": [
    {
     "name": "stdout",
     "output_type": "stream",
     "text": [
      "{'Content-Type': 'application/rdf'}\n",
      "http://localhost:8088/mutate\n",
      "<Response [200]>\n",
      "{'data': {'code': 'Success',\n",
      "          'message': 'Done',\n",
      "          'queries': None,\n",
      "          'uids': {'han': '0x75d3',\n",
      "                   'irvin': '0x75d5',\n",
      "                   'leia': '0x75d2',\n",
      "                   'lucas': '0x75d4',\n",
      "                   'luke': '0x75d8',\n",
      "                   'richard': '0x75d6',\n",
      "                   'st1': '0x75d7',\n",
      "                   'sw1': '0x75d9',\n",
      "                   'sw2': '0x75da',\n",
      "                   'sw3': '0x75db'}},\n",
      " 'extensions': {'server_latency': {'assign_timestamp_ns': 856600,\n",
      "                                   'parsing_ns': 44300,\n",
      "                                   'processing_ns': 80649800,\n",
      "                                   'total_ns': 81705800},\n",
      "                'txn': {'commit_ts': 42027,\n",
      "                        'preds': ['1-dgraph.type',\n",
      "                                  '1-director',\n",
      "                                  '1-name',\n",
      "                                  '1-release_date',\n",
      "                                  '1-revenue',\n",
      "                                  '1-running_time',\n",
      "                                  '1-starring'],\n",
      "                        'start_ts': 42026}}}\n"
     ]
    }
   ],
   "source": [
    "url = URL_PRFIX_MUTATE\n",
    "headers['Content-Type'] = 'application/rdf'\n",
    "\n",
    "pprint.pprint(headers)\n",
    "print(url)\n",
    "\n",
    "params = {\n",
    "    'commitNow': True\n",
    "}\n",
    "data = \"\"\"\n",
    "{\n",
    "  set {\n",
    "   _:luke <name> \"Luke Skywalker\" .\n",
    "   _:luke <dgraph.type> \"Person\" .\n",
    "   _:leia <name> \"Princess Leia\" .\n",
    "   _:leia <dgraph.type> \"Person\" .\n",
    "   _:han <name> \"Han Solo\" .\n",
    "   _:han <dgraph.type> \"Person\" .\n",
    "   _:lucas <name> \"George Lucas\" .\n",
    "   _:lucas <dgraph.type> \"Person\" .\n",
    "   _:irvin <name> \"Irvin Kernshner\" .\n",
    "   _:irvin <dgraph.type> \"Person\" .\n",
    "   _:richard <name> \"Richard Marquand\" .\n",
    "   _:richard <dgraph.type> \"Person\" .\n",
    "\n",
    "   _:sw1 <name> \"Star Wars: Episode IV - A New Hope\" .\n",
    "   _:sw1 <release_date> \"1977-05-25\" .\n",
    "   _:sw1 <revenue> \"775000000\" .\n",
    "   _:sw1 <running_time> \"121\" .\n",
    "   _:sw1 <starring> _:luke .\n",
    "   _:sw1 <starring> _:leia .\n",
    "   _:sw1 <starring> _:han .\n",
    "   _:sw1 <director> _:lucas .\n",
    "   _:sw1 <dgraph.type> \"Film\" .\n",
    "\n",
    "   _:sw2 <name> \"Star Wars: Episode V - The Empire Strikes Back\" .\n",
    "   _:sw2 <release_date> \"1980-05-21\" .\n",
    "   _:sw2 <revenue> \"534000000\" .\n",
    "   _:sw2 <running_time> \"124\" .\n",
    "   _:sw2 <starring> _:luke .\n",
    "   _:sw2 <starring> _:leia .\n",
    "   _:sw2 <starring> _:han .\n",
    "   _:sw2 <director> _:irvin .\n",
    "   _:sw2 <dgraph.type> \"Film\" .\n",
    "\n",
    "   _:sw3 <name> \"Star Wars: Episode VI - Return of the Jedi\" .\n",
    "   _:sw3 <release_date> \"1983-05-25\" .\n",
    "   _:sw3 <revenue> \"572000000\" .\n",
    "   _:sw3 <running_time> \"131\" .\n",
    "   _:sw3 <starring> _:luke .\n",
    "   _:sw3 <starring> _:leia .\n",
    "   _:sw3 <starring> _:han .\n",
    "   _:sw3 <director> _:richard .\n",
    "   _:sw3 <dgraph.type> \"Film\" .\n",
    "\n",
    "   _:st1 <name> \"Star Trek: The Motion Picture\" .\n",
    "   _:st1 <release_date> \"1979-12-07\" .\n",
    "   _:st1 <revenue> \"139000000\" .\n",
    "   _:st1 <running_time> \"132\" .\n",
    "   _:st1 <dgraph.type> \"Film\" .\n",
    "  }\n",
    "}\n",
    "\"\"\"\n",
    "\n",
    "r = requests.post(url, headers=headers, params=params, data=data)\n",
    "print(r)\n",
    "pprint.pprint(r.json())\n",
    "\n",
    "del(headers['Content-Type'])"
   ]
  },
  {
   "cell_type": "markdown",
   "metadata": {},
   "source": [
    "## Query"
   ]
  },
  {
   "cell_type": "markdown",
   "metadata": {},
   "source": [
    "### getl all movies"
   ]
  },
  {
   "cell_type": "code",
   "execution_count": 68,
   "metadata": {},
   "outputs": [
    {
     "name": "stdout",
     "output_type": "stream",
     "text": [
      "{'Content-Type': 'application/dql'}\n",
      "http://localhost:8088/query\n",
      "<Response [200]>\n",
      "{'data': {'me': [{'name': 'Star Wars: Episode IV - A New Hope'},\n",
      "                 {'name': 'Star Wars: Episode V - The Empire Strikes Back'},\n",
      "                 {'name': 'Star Wars: Episode VI - Return of the Jedi'}]},\n",
      " 'extensions': {'metrics': {'num_uids': {'_total': 3,\n",
      "                                         'name': 3,\n",
      "                                         'starring': 0}},\n",
      "                'server_latency': {'assign_timestamp_ns': 740700,\n",
      "                                   'encoding_ns': 181300,\n",
      "                                   'parsing_ns': 70800,\n",
      "                                   'processing_ns': 458400,\n",
      "                                   'total_ns': 1574100},\n",
      "                'txn': {'start_ts': 42028}}}\n"
     ]
    }
   ],
   "source": [
    "url = URL_PRFIX_QUERY\n",
    "headers['Content-Type'] = 'application/dql'\n",
    "\n",
    "pprint.pprint(headers)\n",
    "print(url)\n",
    "\n",
    "params = {}\n",
    "data = \"\"\"\n",
    "{\n",
    " me(func: has(starring)) {\n",
    "   name\n",
    "  }\n",
    "}\n",
    "\"\"\"\n",
    "data = data.replace('\\n', ' ')\n",
    "\n",
    "r = requests.post(url, headers=headers, params=params, data=data)\n",
    "print(r)\n",
    "pprint.pprint(r.json())\n",
    "\n",
    "del (headers['Content-Type'])"
   ]
  }
 ],
 "metadata": {
  "kernelspec": {
   "display_name": "Python 3",
   "language": "python",
   "name": "python3"
  },
  "language_info": {
   "codemirror_mode": {
    "name": "ipython",
    "version": 3
   },
   "file_extension": ".py",
   "mimetype": "text/x-python",
   "name": "python",
   "nbconvert_exporter": "python",
   "pygments_lexer": "ipython3",
   "version": "3.7.9"
  },
  "toc": {
   "base_numbering": 1,
   "nav_menu": {},
   "number_sections": true,
   "sideBar": true,
   "skip_h1_title": false,
   "title_cell": "Table of Contents",
   "title_sidebar": "Contents",
   "toc_cell": false,
   "toc_position": {},
   "toc_section_display": true,
   "toc_window_display": true
  }
 },
 "nbformat": 4,
 "nbformat_minor": 4
}
